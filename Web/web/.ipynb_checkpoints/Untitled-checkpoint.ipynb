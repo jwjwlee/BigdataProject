{
 "cells": [
  {
   "cell_type": "code",
   "execution_count": null,
   "metadata": {
    "collapsed": true
   },
   "outputs": [],
   "source": [
    "from flask import Flask, render_template\n",
    "from flask import Flask, render_template\n",
    "import pymongo\n",
    "app = Flask(__name__)"
   ]
  },
  {
   "cell_type": "code",
   "execution_count": null,
   "metadata": {
    "collapsed": true
   },
   "outputs": [],
   "source": [
    "@app.route('/')\n",
    "def index_page():\n",
    "    return render_template('Index.html')"
   ]
  },
  {
   "cell_type": "code",
   "execution_count": null,
   "metadata": {
    "collapsed": true
   },
   "outputs": [],
   "source": [
    "@app.route('/firstcloud/<moviename>')\n",
    "def hello_falsk(moviename):\n",
    "    connection = pymongo.MongoClient(\"localhost\", 27017)\n",
    "    db = connection.keyword\n",
    "    \n",
    "    ############################################################################\n",
    "    #Postivie keyword\n",
    "    collection = moviename + \"_Pos\"\n",
    "    docs = db[collection].find()\n",
    "    \n",
    "    pos = []\n",
    "    for data in docs:\n",
    "        pos.append([data.get('freq'), data.get('word')])\n",
    "    \n",
    "    pos.sort()\n",
    "    \n",
    "    posWord = []\n",
    "    posFreq = []\n",
    "    size = 10\n",
    "    for data in pos:\n",
    "        posFreq.append(size)\n",
    "        posWord.append(data[1])\n",
    "        size = size + 7\n",
    "    \n",
    "    ##############################################################################\n",
    "    #Negativie keyword\n",
    "    collection = moviename + \"_Neg\"\n",
    "    docs = db[collection].find()\n",
    "    \n",
    "    neg = []\n",
    "    for data in docs:\n",
    "        neg.append([data.get('freq'), data.get('word')])\n",
    "    \n",
    "    neg.sort()\n",
    "\n",
    "    negWord = []\n",
    "    negFreq = []   \n",
    "    size = 10\n",
    "    for data in neg:\n",
    "        negFreq.append(size)\n",
    "        negWord.append(data[1])\n",
    "        size = size + 7\n",
    "        \n",
    "    ##############################################################################\n",
    "    \n",
    "    return render_template('FirstCloud.html',posWord = posWord,posFreq=posFreq,negWord=negWord,negFreq=negFreq,moviename=moviename)"
   ]
  },
  {
   "cell_type": "code",
   "execution_count": null,
   "metadata": {
    "collapsed": true
   },
   "outputs": [],
   "source": [
    "@app.route('/secondcloud/<keyword>/<fontColor>/<moviename>')\n",
    "def hello_falsk2(keyword,fontColor,moviename):\n",
    "    connection = pymongo.MongoClient(\"localhost\", 27017)\n",
    "    db = connection.keyword\n",
    "\n",
    "    collection = moviename + \"_sub\"\n",
    "    docs = db[collection].find()\n",
    "    \n",
    "    subWord = []\n",
    "    for data in docs:\n",
    "        subWord.append([data.get('freq'), data.get('word'), data.get('label')])\n",
    "  \n",
    "    res = []\n",
    "    for i in range(0, len(subWord)):\n",
    "        if subWord[i][2] == keyword and subWord[i][1] != keyword and subWord[i][1] != \"영화\":\n",
    "            res.append([subWord[i][1], subWord[i][0]])         \n",
    "  \n",
    "\n",
    "    res.sort()\n",
    "\n",
    "    resFreq = []\n",
    "    resWord = []\n",
    "    size = 10\n",
    "    flag = 0\n",
    "    for data in res:\n",
    "        resFreq.append(size)\n",
    "        resWord.append(data[1])\n",
    "        size = size + 7\n",
    "        if flag == 10: break;\n",
    "                \n",
    "          \n",
    "    return render_template('SecondCloud.html',Word = resWord,wordFreq=resFreq, fontColor=fontColor)"
   ]
  },
  {
   "cell_type": "code",
   "execution_count": null,
   "metadata": {},
   "outputs": [],
   "source": [
    "if __name__ == '__main__':\n",
    "    app.run(host=\"0.0.0.0\")"
   ]
  },
  {
   "cell_type": "code",
   "execution_count": null,
   "metadata": {
    "collapsed": true
   },
   "outputs": [],
   "source": []
  },
  {
   "cell_type": "code",
   "execution_count": null,
   "metadata": {
    "collapsed": true
   },
   "outputs": [],
   "source": []
  },
  {
   "cell_type": "code",
   "execution_count": null,
   "metadata": {
    "collapsed": true
   },
   "outputs": [],
   "source": []
  },
  {
   "cell_type": "code",
   "execution_count": null,
   "metadata": {
    "collapsed": true
   },
   "outputs": [],
   "source": []
  }
 ],
 "metadata": {
  "kernelspec": {
   "display_name": "Python 3",
   "language": "python",
   "name": "python3"
  },
  "language_info": {
   "codemirror_mode": {
    "name": "ipython",
    "version": 3
   },
   "file_extension": ".py",
   "mimetype": "text/x-python",
   "name": "python",
   "nbconvert_exporter": "python",
   "pygments_lexer": "ipython3",
   "version": "3.5.4"
  }
 },
 "nbformat": 4,
 "nbformat_minor": 2
}
